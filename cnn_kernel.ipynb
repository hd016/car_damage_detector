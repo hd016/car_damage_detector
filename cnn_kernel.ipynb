{
  "cells": [
    {
      "metadata": {
        "_uuid": "8f2839f25d086af736a60e9eeb907d3b93b6e0e5",
        "_cell_guid": "b1076dfc-b9ad-4769-8c92-a6c4dae69d19",
        "trusted": true
      },
      "cell_type": "code",
      "source": "def one_hot_label(img):\n    label = img.split(\".\")[0]\n\n    if \"damage\" in str(label):\n        ohl = np.array([1,0])\n            \n    else:\n        ohl = np.array([0,1])\n        \n    return ohl\n        \ndef train_data_with_label():\n    train_images = []\n    for i in tqdm(os.listdir(train_data)):\n        if i.startswith('.') == True:\n            continue\n        \n        path = os.path.join(train_data, i)\n        img = cv2.imread(path, cv2.IMREAD_GRAYSCALE)\n        img = cv2.resize(img, (256,256))\n        train_images.append([np.array(img), one_hot_label(i)])\n        \n    shuffle(train_images)\n    return train_images\n        \ndef test_data_with_label():\n    test_images = []\n    for i in tqdm(os.listdir(test_data)):\n        if i.startswith('.') == True:\n            continue\n            \n        path = os.path.join(test_data, i)\n        img = cv2.imread(path, cv2.IMREAD_GRAYSCALE)\n        img = cv2.resize(img, (256,256))\n        test_images.append([np.array(img), one_hot_label(i)])\n        \n    return test_images",
      "execution_count": 29,
      "outputs": []
    },
    {
      "metadata": {
        "_cell_guid": "79c7e3d0-c299-4dcb-8224-4455121ee9b0",
        "_uuid": "d629ff2d2480ee46fbb7e2d37f6b5fab8052498a",
        "trusted": true
      },
      "cell_type": "code",
      "source": "import cv2\nimport numpy as np\nimport os\nfrom random import shuffle\nfrom tqdm import tqdm\nimport tensorflow as tf\nimport matplotlib.pyplot as plt\n\nfrom keras.models import Sequential\nfrom keras.layers import *\nfrom keras.optimizers import *\n\n\n%matplotlib inline\n\ntrain_data = \"../input/cnn/CNN/TRAIN/\"\ntest_data = \"../input/cnn/CNN/TEST/\"\n\n\ntraining_images = train_data_with_label()\ntesting_images = test_data_with_label()\n\ntr_img_data = np.array([i[0] for i in training_images]).reshape(-1, 256,256,1)\ntr_lbl_data = np.array([i[1] for i in training_images])\n\ntst_img_data = np.array([i[0] for i in testing_images]).reshape(-1, 256,256,1)\ntst_lbl_data = np.array([i[1] for i in testing_images])",
      "execution_count": 30,
      "outputs": [
        {
          "output_type": "stream",
          "text": "100%|██████████| 31059/31059 [01:37<00:00, 317.11it/s]\n100%|██████████| 56/56 [00:00<00:00, 285.02it/s]\n",
          "name": "stderr"
        }
      ]
    },
    {
      "metadata": {
        "trusted": true,
        "_uuid": "56f6b7c273aa98f353534fbb417d9b9710a1647c"
      },
      "cell_type": "code",
      "source": "model = Sequential()\n\nmodel.add(InputLayer(input_shape=[256,256,1]))\n\nmodel.add(Conv2D(filters=32, kernel_size=4, strides=1, padding=\"same\", activation=\"sigmoid\"))\nmodel.add(MaxPool2D(pool_size=4, padding=\"same\"))\n\nmodel.add(Conv2D(filters=64, kernel_size=5, strides=1, padding=\"same\", activation=\"sigmoid\"))\nmodel.add(MaxPool2D(pool_size=8, padding=\"same\"))\n\nmodel.add(Conv2D(filters=128, kernel_size=5, strides=1, padding=\"same\", activation=\"sigmoid\"))\nmodel.add(MaxPool2D(pool_size=8, padding=\"same\"))\n\nmodel.add(Dropout(0.25))\nmodel.add(Flatten())\nmodel.add(Dense(512, activation=\"sigmoid\"))\nmodel.add(Dropout(rate=0.5))\nmodel.add(Dense(2, activation=\"softmax\"))\noptimizer = Adam(lr=0.001)\n\nmodel.compile(optimizer=optimizer, loss='categorical_crossentropy', metrics=['accuracy'])\nwith tf.device('/gpu:0'):\n    hist = model.fit(x=tr_img_data, y=tr_lbl_data, epochs=50, batch_size=100)\nmodel.summary()\n\nmodel.save_weights(\"model_num1.h5\")",
      "execution_count": 38,
      "outputs": [
        {
          "output_type": "stream",
          "text": "Epoch 1/50\n31059/31059 [==============================] - 60s 2ms/step - loss: 0.7304 - acc: 0.5114\nEpoch 2/50\n31059/31059 [==============================] - 57s 2ms/step - loss: 0.6121 - acc: 0.6622\nEpoch 3/50\n31059/31059 [==============================] - 57s 2ms/step - loss: 0.4954 - acc: 0.7644\nEpoch 4/50\n31059/31059 [==============================] - 57s 2ms/step - loss: 0.4534 - acc: 0.7936\nEpoch 5/50\n31059/31059 [==============================] - 57s 2ms/step - loss: 0.4393 - acc: 0.8009\nEpoch 6/50\n31059/31059 [==============================] - 57s 2ms/step - loss: 0.4210 - acc: 0.8110\nEpoch 7/50\n31059/31059 [==============================] - 57s 2ms/step - loss: 0.4042 - acc: 0.8204\nEpoch 8/50\n31059/31059 [==============================] - 57s 2ms/step - loss: 0.3938 - acc: 0.8285\nEpoch 9/50\n31059/31059 [==============================] - 57s 2ms/step - loss: 0.3904 - acc: 0.8270\nEpoch 10/50\n31059/31059 [==============================] - 57s 2ms/step - loss: 0.3832 - acc: 0.8334\nEpoch 11/50\n31059/31059 [==============================] - 57s 2ms/step - loss: 0.3785 - acc: 0.8351\nEpoch 12/50\n31059/31059 [==============================] - 57s 2ms/step - loss: 0.3681 - acc: 0.8417\nEpoch 13/50\n31059/31059 [==============================] - 57s 2ms/step - loss: 0.3611 - acc: 0.8457\nEpoch 14/50\n31059/31059 [==============================] - 57s 2ms/step - loss: 0.3580 - acc: 0.8443\nEpoch 15/50\n31059/31059 [==============================] - 57s 2ms/step - loss: 0.3491 - acc: 0.8509\nEpoch 16/50\n31059/31059 [==============================] - 57s 2ms/step - loss: 0.3461 - acc: 0.8529\nEpoch 17/50\n31059/31059 [==============================] - 57s 2ms/step - loss: 0.3494 - acc: 0.8526\nEpoch 18/50\n31059/31059 [==============================] - 57s 2ms/step - loss: 0.3398 - acc: 0.8554\nEpoch 19/50\n31059/31059 [==============================] - 57s 2ms/step - loss: 0.3363 - acc: 0.8581\nEpoch 20/50\n31059/31059 [==============================] - 57s 2ms/step - loss: 0.3318 - acc: 0.8589\nEpoch 21/50\n31059/31059 [==============================] - 57s 2ms/step - loss: 0.3263 - acc: 0.8630\nEpoch 22/50\n31059/31059 [==============================] - 57s 2ms/step - loss: 0.3224 - acc: 0.8650\nEpoch 23/50\n31059/31059 [==============================] - 57s 2ms/step - loss: 0.3201 - acc: 0.8670\nEpoch 24/50\n31059/31059 [==============================] - 57s 2ms/step - loss: 0.3212 - acc: 0.8661\nEpoch 25/50\n31059/31059 [==============================] - 57s 2ms/step - loss: 0.3190 - acc: 0.8675\nEpoch 26/50\n31059/31059 [==============================] - 57s 2ms/step - loss: 0.3062 - acc: 0.8729\nEpoch 27/50\n31059/31059 [==============================] - 57s 2ms/step - loss: 0.3052 - acc: 0.8741\nEpoch 28/50\n31059/31059 [==============================] - 57s 2ms/step - loss: 0.3070 - acc: 0.8715\nEpoch 29/50\n31059/31059 [==============================] - 57s 2ms/step - loss: 0.2986 - acc: 0.8762\nEpoch 30/50\n31059/31059 [==============================] - 57s 2ms/step - loss: 0.2961 - acc: 0.8770\nEpoch 31/50\n31059/31059 [==============================] - 57s 2ms/step - loss: 0.2923 - acc: 0.8793\nEpoch 32/50\n31059/31059 [==============================] - 57s 2ms/step - loss: 0.2859 - acc: 0.8805\nEpoch 33/50\n31059/31059 [==============================] - 57s 2ms/step - loss: 0.2821 - acc: 0.8838\nEpoch 34/50\n31059/31059 [==============================] - 57s 2ms/step - loss: 0.2818 - acc: 0.8831\nEpoch 35/50\n31059/31059 [==============================] - 57s 2ms/step - loss: 0.2769 - acc: 0.8864\nEpoch 36/50\n31059/31059 [==============================] - 57s 2ms/step - loss: 0.2751 - acc: 0.8865\nEpoch 37/50\n31059/31059 [==============================] - 57s 2ms/step - loss: 0.2694 - acc: 0.8905\nEpoch 38/50\n31059/31059 [==============================] - 57s 2ms/step - loss: 0.2574 - acc: 0.8960\nEpoch 39/50\n31059/31059 [==============================] - 57s 2ms/step - loss: 0.2624 - acc: 0.8932\nEpoch 40/50\n31059/31059 [==============================] - 57s 2ms/step - loss: 0.2549 - acc: 0.8956\nEpoch 41/50\n31059/31059 [==============================] - 57s 2ms/step - loss: 0.2520 - acc: 0.8977\nEpoch 42/50\n31059/31059 [==============================] - 57s 2ms/step - loss: 0.2458 - acc: 0.9000\nEpoch 43/50\n31059/31059 [==============================] - 57s 2ms/step - loss: 0.2493 - acc: 0.8986\nEpoch 44/50\n31059/31059 [==============================] - 57s 2ms/step - loss: 0.2454 - acc: 0.8996\nEpoch 45/50\n31059/31059 [==============================] - 57s 2ms/step - loss: 0.2360 - acc: 0.9041\nEpoch 46/50\n31059/31059 [==============================] - 57s 2ms/step - loss: 0.2371 - acc: 0.9039\nEpoch 47/50\n31059/31059 [==============================] - 57s 2ms/step - loss: 0.2352 - acc: 0.9033\nEpoch 48/50\n31059/31059 [==============================] - 57s 2ms/step - loss: 0.2262 - acc: 0.9069\nEpoch 49/50\n31059/31059 [==============================] - 57s 2ms/step - loss: 0.2255 - acc: 0.9082\nEpoch 50/50\n31059/31059 [==============================] - 57s 2ms/step - loss: 0.2169 - acc: 0.9126\n_________________________________________________________________\nLayer (type)                 Output Shape              Param #   \n=================================================================\nconv2d_61 (Conv2D)           (None, 256, 256, 32)      544       \n_________________________________________________________________\nmax_pooling2d_43 (MaxPooling (None, 64, 64, 32)        0         \n_________________________________________________________________\nconv2d_62 (Conv2D)           (None, 64, 64, 64)        51264     \n_________________________________________________________________\nmax_pooling2d_44 (MaxPooling (None, 8, 8, 64)          0         \n_________________________________________________________________\nconv2d_63 (Conv2D)           (None, 8, 8, 128)         204928    \n_________________________________________________________________\nmax_pooling2d_45 (MaxPooling (None, 1, 1, 128)         0         \n_________________________________________________________________\ndropout_41 (Dropout)         (None, 1, 1, 128)         0         \n_________________________________________________________________\nflatten_18 (Flatten)         (None, 128)               0         \n_________________________________________________________________\ndense_35 (Dense)             (None, 512)               66048     \n_________________________________________________________________\ndropout_42 (Dropout)         (None, 512)               0         \n_________________________________________________________________\ndense_36 (Dense)             (None, 2)                 1026      \n=================================================================\nTotal params: 323,810\nTrainable params: 323,810\nNon-trainable params: 0\n_________________________________________________________________\n",
          "name": "stdout"
        }
      ]
    },
    {
      "metadata": {
        "trusted": true,
        "_uuid": "d53999ca00e2e7a10a91ee2cb24937a53aab0b91"
      },
      "cell_type": "code",
      "source": "fig = plt.figure(figsize=(20,29))\n\nfor cnt,data in enumerate(testing_images):\n    y = fig.add_subplot(10,7, cnt+1)\n    \n    img = data[0]\n    data = img.reshape(1,256,256,1)\n    model_out = model.predict([data])\n    if np.argmax(model_out) == 1:\n        str_label=\"No Damage\"\n    else:\n        str_label =\"Damage\"\n        \n    y.imshow(cv2.cvtColor(img, cv2.COLOR_RGB2BGR))\n    plt.title(str_label)\n    #print(np.round(model_out, 3), np.argmax(model_out))\n    y.axes.get_xaxis().set_visible(False)\n    y.axes.get_yaxis().set_visible(False)",
      "execution_count": null,
      "outputs": []
    },
    {
      "metadata": {
        "trusted": true,
        "_uuid": "c2ce6acbf91088cce701e34d0bb612b9a15fb4bc"
      },
      "cell_type": "code",
      "source": "from tensorflow.python.client import device_lib\nprint(device_lib.list_local_devices())",
      "execution_count": 23,
      "outputs": [
        {
          "output_type": "stream",
          "text": "[name: \"/device:CPU:0\"\ndevice_type: \"CPU\"\nmemory_limit: 268435456\nlocality {\n}\nincarnation: 16480469287113039331\n, name: \"/device:XLA_CPU:0\"\ndevice_type: \"XLA_CPU\"\nmemory_limit: 17179869184\nlocality {\n}\nincarnation: 7640886922170826332\nphysical_device_desc: \"device: XLA_CPU device\"\n, name: \"/device:XLA_GPU:0\"\ndevice_type: \"XLA_GPU\"\nmemory_limit: 17179869184\nlocality {\n}\nincarnation: 17184386360813281315\nphysical_device_desc: \"device: XLA_GPU device\"\n, name: \"/device:GPU:0\"\ndevice_type: \"GPU\"\nmemory_limit: 11281553818\nlocality {\n  bus_id: 1\n  links {\n  }\n}\nincarnation: 14134816536494439179\nphysical_device_desc: \"device: 0, name: Tesla K80, pci bus id: 0000:00:04.0, compute capability: 3.7\"\n]\n",
          "name": "stdout"
        }
      ]
    },
    {
      "metadata": {
        "trusted": true,
        "_uuid": "11898c999da2365753878bdce223ed86c1f70cb3"
      },
      "cell_type": "code",
      "source": "from keras import backend as K\nK.tensorflow_backend._get_available_gpus()",
      "execution_count": 24,
      "outputs": [
        {
          "output_type": "execute_result",
          "execution_count": 24,
          "data": {
            "text/plain": "['/job:localhost/replica:0/task:0/device:GPU:0']"
          },
          "metadata": {}
        }
      ]
    },
    {
      "metadata": {
        "trusted": true,
        "_uuid": "6400c0549d57a4993a5804e5f5051636f4851f79"
      },
      "cell_type": "code",
      "source": "import tensorflow_gpu",
      "execution_count": 26,
      "outputs": [
        {
          "output_type": "error",
          "ename": "ModuleNotFoundError",
          "evalue": "No module named 'tensorflow_gpu'",
          "traceback": [
            "\u001b[0;31m---------------------------------------------------------------------------\u001b[0m",
            "\u001b[0;31mModuleNotFoundError\u001b[0m                       Traceback (most recent call last)",
            "\u001b[0;32m<ipython-input-26-3eb5acbeadcb>\u001b[0m in \u001b[0;36m<module>\u001b[0;34m()\u001b[0m\n\u001b[0;32m----> 1\u001b[0;31m \u001b[0;32mimport\u001b[0m \u001b[0mtensorflow_gpu\u001b[0m\u001b[0;34m\u001b[0m\u001b[0m\n\u001b[0m",
            "\u001b[0;31mModuleNotFoundError\u001b[0m: No module named 'tensorflow_gpu'"
          ]
        }
      ]
    },
    {
      "metadata": {
        "trusted": true,
        "_uuid": "462fec5ef3bf0ae257bc196a3fee97ed72a3151c"
      },
      "cell_type": "code",
      "source": "",
      "execution_count": null,
      "outputs": []
    }
  ],
  "metadata": {
    "kernelspec": {
      "display_name": "Python 3",
      "language": "python",
      "name": "python3"
    }
  },
  "nbformat": 4,
  "nbformat_minor": 1
}